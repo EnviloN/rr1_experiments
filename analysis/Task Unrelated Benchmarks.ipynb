{
 "cells": [
  {
   "cell_type": "code",
   "execution_count": 2,
   "id": "9ea4dae6-c9d0-4682-b507-3f9e6639955d",
   "metadata": {},
   "outputs": [],
   "source": [
    "import numpy as np\n",
    "import pandas as pd\n",
    "import matplotlib.pyplot as plt\n",
    "import seaborn as sns"
   ]
  },
  {
   "cell_type": "code",
   "execution_count": 111,
   "id": "4d4b217c-25cd-4eea-960b-cf12b663ee67",
   "metadata": {},
   "outputs": [],
   "source": [
    "gazebo_static = pd.read_csv(\"data/Gazebo/static_test.csv\")\n",
    "gazebo_static_fps = pd.read_csv(\"data/Gazebo/static_gazebo_fps.csv\")\n",
    "gazebo_dynamic = pd.read_csv(\"data/Gazebo/dynamic_test.csv\")\n",
    "gazebo_dynamic_fps = pd.read_csv(\"data/Gazebo/dynamic_gazebo_fps.csv\")\n",
    "\n",
    "# Drop first entry for every experiment (incorrect RTF)\n",
    "gazebo_static = gazebo_static.groupby(\"count\").apply(lambda group: group.iloc[1:]).reset_index(drop=True)\n",
    "gazebo_dynamic = gazebo_dynamic.groupby(\"count\").apply(lambda group: group.iloc[1:]).reset_index(drop=True)\n",
    "\n",
    "# Convert CPU readings to lists of floats\n",
    "gazebo_static[\"CPU\"] = gazebo_static[\"CPU\"].apply(lambda x: sorted([float(i) for i in x[1:-1].split(',')], reverse=True))\n",
    "gazebo_dynamic[\"CPU\"] = gazebo_dynamic[\"CPU\"].apply(lambda x: sorted([float(i) for i in x[1:-1].split(',')], reverse=True))\n",
    "\n",
    "gazebo_static[\"CPU_ALL\"] = gazebo_static[\"CPU\"].apply(lambda x: np.mean(x))\n",
    "gazebo_dynamic[\"CPU_ALL\"] = gazebo_dynamic[\"CPU\"].apply(lambda x: np.mean(x))\n",
    "\n",
    "gazebo_static_tmp = gazebo_static.groupby([\"test\", \"count\"]).agg(\"mean\").reset_index()\n",
    "gazebo_static_tmp[\"FPS\"] = gazebo_static_fps[\"FPS\"]\n",
    "gazebo_static_tmp[\"CPU\"] = gazebo_static[[\"count\", \"CPU\"]].groupby(\"count\").agg({\"CPU\": lambda x: [np.mean(i) for i in zip(*x)]}).reset_index()[\"CPU\"]\n",
    "gazebo_static = gazebo_static_tmp\n",
    "\n",
    "gazebo_dynamic_tmp = gazebo_dynamic.groupby([\"test\", \"count\"]).agg(\"mean\").reset_index()\n",
    "gazebo_dynamic_tmp[\"FPS\"] = gazebo_dynamic_fps[\"FPS\"]\n",
    "gazebo_dynamic_tmp[\"CPU\"] = gazebo_dynamic[[\"count\", \"CPU\"]].groupby(\"count\").agg({\"CPU\": lambda x: [np.mean(i) for i in zip(*x)]}).reset_index()[\"CPU\"]\n",
    "gazebo_dynamic = gazebo_dynamic_tmp"
   ]
  },
  {
   "cell_type": "code",
   "execution_count": 128,
   "id": "6f70689c-8bd6-401f-85d0-c37951fb4b55",
   "metadata": {},
   "outputs": [],
   "source": [
    "gazebo_tests = pd.concat([gazebo_static, gazebo_dynamic])\n",
    "gazebo_tests[\"RAM_USED\"] = gazebo_tests[\"RAM_USED\"] / (1024**3)  # Bytes to GiB (Gibibytes)\n",
    "gazebo_tests[\"FPS_SCALED\"] = gazebo_tests[\"FPS\"]*gazebo_tests[\"RTF\"]\n",
    "\n",
    "gazebo_static = gazebo_tests[gazebo_tests[\"test\"] == \"static\"]\n",
    "gazebo_dynamic = gazebo_tests[gazebo_tests[\"test\"] == \"dynamic\"]"
   ]
  },
  {
   "cell_type": "code",
   "execution_count": 132,
   "id": "5f038fd8-ef3b-4cb7-97a2-422457f63e41",
   "metadata": {},
   "outputs": [
    {
     "data": {
      "text/plain": [
       "<AxesSubplot:xlabel='count'>"
      ]
     },
     "execution_count": 132,
     "metadata": {},
     "output_type": "execute_result"
    },
    {
     "data": {
      "image/png": "[encoded data removed]",
      "text/plain": [
       "<Figure size 432x288 with 1 Axes>"
      ]
     },
     "metadata": {
      "needs_background": "light"
     },
     "output_type": "display_data"
    },
    {
     "data": {
      "image/png": "[encoded data removed]",
      "text/plain": [
       "<Figure size 432x288 with 1 Axes>"
      ]
     },
     "metadata": {
      "needs_background": "light"
     },
     "output_type": "display_data"
    }
   ],
   "source": [
    "gazebo_dynamic.plot(x=\"count\", y=\"RTF\")\n",
    "gazebo_dynamic.plot(x=\"count\", y=\"FPS_SCALED\")"
   ]
  },
  {
   "cell_type": "code",
   "execution_count": null,
   "id": "cbffda86-590e-46b0-926e-15dfbfd73d50",
   "metadata": {},
   "outputs": [],
   "source": [
    "gazebo_tests[]"
   ]
  },
  {
   "cell_type": "code",
   "execution_count": null,
   "id": "13505715-89d8-4e3b-afb6-64e8b9b06485",
   "metadata": {},
   "outputs": [],
   "source": []
  }
 ],
 "metadata": {
  "kernelspec": {
   "display_name": "anaconda-2022.05-py39",
   "language": "python",
   "name": "conda-env-anaconda-2022.05-py39-py"
  },
  "language_info": {
   "codemirror_mode": {
    "name": "ipython",
    "version": 3
   },
   "file_extension": ".py",
   "mimetype": "text/x-python",
   "name": "python",
   "nbconvert_exporter": "python",
   "pygments_lexer": "ipython3",
   "version": "3.9.12"
  }
 },
 "nbformat": 4,
 "nbformat_minor": 5
}
